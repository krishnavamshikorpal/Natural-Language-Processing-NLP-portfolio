{
  "nbformat": 4,
  "nbformat_minor": 0,
  "metadata": {
    "colab": {
      "name": "Swiggy-chatbot.ipynb",
      "provenance": [],
      "authorship_tag": "ABX9TyMcJFKRmKA9DaWs4jSMtb4b",
      "include_colab_link": true
    },
    "kernelspec": {
      "name": "python3",
      "display_name": "Python 3"
    },
    "language_info": {
      "name": "python"
    },
    "accelerator": "GPU"
  },
  "cells": [
    {
      "cell_type": "markdown",
      "metadata": {
        "id": "view-in-github",
        "colab_type": "text"
      },
      "source": [
        "<a href=\"https://colab.research.google.com/github/krishnavamshikorpal/Natural-Language-Processing-NLP-portfolio/blob/master/Swiggy_chatbot.ipynb\" target=\"_parent\"><img src=\"https://colab.research.google.com/assets/colab-badge.svg\" alt=\"Open In Colab\"/></a>"
      ]
    },
    {
      "cell_type": "markdown",
      "metadata": {
        "id": "tEneZUU8GagM"
      },
      "source": [
        "### **Importing libraries and downloading packages**"
      ]
    },
    {
      "cell_type": "code",
      "metadata": {
        "id": "UJ8N1CVfGQC5"
      },
      "source": [
        "import nltk\n",
        "import numpy as np"
      ],
      "execution_count": null,
      "outputs": []
    },
    {
      "cell_type": "code",
      "metadata": {
        "colab": {
          "base_uri": "https://localhost:8080/"
        },
        "id": "u0su29foGsu-",
        "outputId": "79bb37e7-3151-4542-d0c7-d0827a30dbc1"
      },
      "source": [
        "# downloading model to tokenize message\n",
        "nltk.download('punkt')\n",
        "# downloading stopwords\n",
        "nltk.download('stopwords')\n",
        "# downloading wordnet, which contains all lemmas of english language\n",
        "nltk.download('wordnet')"
      ],
      "execution_count": null,
      "outputs": [
        {
          "output_type": "stream",
          "name": "stdout",
          "text": [
            "[nltk_data] Downloading package punkt to /root/nltk_data...\n",
            "[nltk_data]   Unzipping tokenizers/punkt.zip.\n",
            "[nltk_data] Downloading package stopwords to /root/nltk_data...\n",
            "[nltk_data]   Unzipping corpora/stopwords.zip.\n",
            "[nltk_data] Downloading package wordnet to /root/nltk_data...\n",
            "[nltk_data]   Unzipping corpora/wordnet.zip.\n"
          ]
        },
        {
          "output_type": "execute_result",
          "data": {
            "text/plain": [
              "True"
            ]
          },
          "metadata": {},
          "execution_count": 2
        }
      ]
    },
    {
      "cell_type": "code",
      "metadata": {
        "id": "mROcWHrtG19U"
      },
      "source": [
        "from nltk.tokenize import word_tokenize\n",
        "\n",
        "from nltk.corpus import stopwords\n",
        "stop_words = stopwords.words('english')\n",
        "\n",
        "from nltk.stem import WordNetLemmatizer"
      ],
      "execution_count": null,
      "outputs": []
    },
    {
      "cell_type": "markdown",
      "metadata": {
        "id": "5rfoQCMKHJJK"
      },
      "source": [
        "### **Function to clean text**"
      ]
    },
    {
      "cell_type": "code",
      "metadata": {
        "id": "J7mpgjJxG9o0"
      },
      "source": [
        "def clean_corpus(corpus):\n",
        "  # lowering every word in text\n",
        "  corpus = [ doc.lower() for doc in corpus]\n",
        "  cleaned_corpus = []\n",
        "  \n",
        "  stop_words = stopwords.words('english')\n",
        "  wordnet_lemmatizer = WordNetLemmatizer()\n",
        "\n",
        "  # iterating over every text\n",
        "  for doc in corpus:\n",
        "    # tokenizing text\n",
        "    tokens = word_tokenize(doc)\n",
        "    cleaned_sentence = [] \n",
        "    for token in tokens: \n",
        "      # removing stopwords, and punctuation\n",
        "      if token not in stop_words and token.isalpha(): \n",
        "        # applying lemmatization\n",
        "        cleaned_sentence.append(wordnet_lemmatizer.lemmatize(token)) \n",
        "    cleaned_corpus.append(' '.join(cleaned_sentence))\n",
        "  return cleaned_corpus"
      ],
      "execution_count": null,
      "outputs": []
    },
    {
      "cell_type": "markdown",
      "metadata": {
        "id": "NHIyw_5ZHwDg"
      },
      "source": [
        "### **Loading and cleaning intents**"
      ]
    },
    {
      "cell_type": "code",
      "metadata": {
        "colab": {
          "base_uri": "https://localhost:8080/"
        },
        "id": "z2dZCCrFHrHO",
        "outputId": "4cdfc213-4790-4c49-8e2b-a354dcb60dc4"
      },
      "source": [
        "!wget -O intents.json https://techlearn-cdn.s3.amazonaws.com/bs_swiggy_chatbot/intent.json"
      ],
      "execution_count": null,
      "outputs": [
        {
          "output_type": "stream",
          "name": "stdout",
          "text": [
            "--2021-09-15 06:17:59--  https://techlearn-cdn.s3.amazonaws.com/bs_swiggy_chatbot/intent.json\n",
            "Resolving techlearn-cdn.s3.amazonaws.com (techlearn-cdn.s3.amazonaws.com)... 52.219.160.55\n",
            "Connecting to techlearn-cdn.s3.amazonaws.com (techlearn-cdn.s3.amazonaws.com)|52.219.160.55|:443... connected.\n",
            "HTTP request sent, awaiting response... 200 OK\n",
            "Length: 4699 (4.6K) [application/json]\n",
            "Saving to: ‘intents.json’\n",
            "\n",
            "intents.json        100%[===================>]   4.59K  --.-KB/s    in 0s      \n",
            "\n",
            "2021-09-15 06:18:00 (41.3 MB/s) - ‘intents.json’ saved [4699/4699]\n",
            "\n"
          ]
        }
      ]
    },
    {
      "cell_type": "code",
      "metadata": {
        "id": "CIgXB5GdH6S0"
      },
      "source": [
        "import json\n",
        "with open('intents.json', 'r') as file:\n",
        "  intents = json.load(file)"
      ],
      "execution_count": null,
      "outputs": []
    },
    {
      "cell_type": "code",
      "metadata": {
        "colab": {
          "base_uri": "https://localhost:8080/"
        },
        "id": "L4uyCZQSICLk",
        "outputId": "1df39e2f-2db0-43a8-e270-dfb2d8473de6"
      },
      "source": [
        "intents"
      ],
      "execution_count": null,
      "outputs": [
        {
          "output_type": "execute_result",
          "data": {
            "text/plain": [
              "{'intents': [{'patterns': ['Hi there',\n",
              "    'Is anyone there?',\n",
              "    'Hey',\n",
              "    'Hola',\n",
              "    'Hello',\n",
              "    'Good day'],\n",
              "   'responses': ['Hello, how can I help?',\n",
              "    'Good to see you again',\n",
              "    'Hi there, how can I help?'],\n",
              "   'tag': 'greeting'},\n",
              "  {'patterns': ['Bye',\n",
              "    'See you later',\n",
              "    'Goodbye',\n",
              "    'Nice chatting to you, bye',\n",
              "    'Till next time',\n",
              "    \"No, that's it\"],\n",
              "   'responses': ['See you!', 'Have a nice day', 'Bye! Come back again soon.'],\n",
              "   'tag': 'goodbye'},\n",
              "  {'patterns': ['Thanks',\n",
              "    'Thank you',\n",
              "    \"That's helpful\",\n",
              "    'Awesome, thanks',\n",
              "    'Thanks for helping me'],\n",
              "   'responses': ['Happy to help!', 'Any time!', 'My pleasure'],\n",
              "   'tag': 'thanks'},\n",
              "  {'patterns': [],\n",
              "   'responses': [\"Sorry, can't understand you\",\n",
              "    'Please give me more info',\n",
              "    'Not sure I understand'],\n",
              "   'tag': 'noanswer'},\n",
              "  {'patterns': ['How you could help me?',\n",
              "    'What help you provide?',\n",
              "    'How you can be helpful?',\n",
              "    'What support is offered'],\n",
              "   'responses': ['I can help you with your order status, delivery, and refund. ',\n",
              "    'I can check your order status, and cancel your order.'],\n",
              "   'tag': 'options'},\n",
              "  {'action': 'CHECK_ORDER_STATUS',\n",
              "   'next-intent-tag': ['order-status'],\n",
              "   'patterns': ['Please check my order status.',\n",
              "    'I am not able to check my order status.',\n",
              "    'Help me with my order status',\n",
              "    'Order Status',\n",
              "    'Where is my order?',\n",
              "    'Where is my food',\n",
              "    'Track my order',\n",
              "    'Track my food'],\n",
              "   'responses': ['I am checking your status of your order, Please wait.',\n",
              "    'I am checking up with for your order'],\n",
              "   'tag': 'order-status-request'},\n",
              "  {'patterns': [],\n",
              "   'responses': ['Your order is currently {order_status}, it will be delivered in {delivery_time} minutes. Do you need any more help?',\n",
              "    'Your order will be delivered in {delivery_time}, currently it is {order_status}. Is there anything else, we can help you with?'],\n",
              "   'tag': 'order-status'},\n",
              "  {'action': 'ORDER_CANCEL_CONFIRMATION',\n",
              "   'next-intent-tag': ['cancel-order', 'no-cancel-order'],\n",
              "   'patterns': ['Hi, I want to cancel my order.',\n",
              "    'I want to cancel my order',\n",
              "    'Please cancel my order',\n",
              "    'Cancel my order'],\n",
              "   'responses': ['I can cancel your order, If your order is in kitchen, there will be a cancellation fee.  Do you want me to proceed?',\n",
              "    'I can cancel your order, there can be a cancellation fee depending on your order status. I need your final confirmation to confirm your order.'],\n",
              "   'tag': 'cancel-order-request'},\n",
              "  {'patterns': [],\n",
              "   'responses': ['I have canceled your order, the order refund will reflect in your account in 2 days. Do you need any more help?',\n",
              "    'Your order is canceled, you will receive refund for this order in 2 days. Is there anything else, we can help you with?'],\n",
              "   'tag': 'cancel-order'},\n",
              "  {'patterns': [],\n",
              "   'responses': ['Okay, I am not canceling your order. Do you need any more help?',\n",
              "    'Alright, I am not canceling your order. Is there anything else, we can help you with?'],\n",
              "   'tag': 'no-cancel-order'},\n",
              "  {'action': 'ADD_DELIVERY_INSTRUCTIONS',\n",
              "   'next-intent-tag': ['added-delivery-instructions'],\n",
              "   'patterns': ['I want to add delivery instructions',\n",
              "    'Please add delivery instructions',\n",
              "    'Include delivery instructions'],\n",
              "   'responses': ['Please tell me your delivery instructions, I will pass it on to our delivery executive.'],\n",
              "   'tag': 'delivery-instructions'},\n",
              "  {'patterns': [],\n",
              "   'responses': ['I got your instructions, and I have informed our delivery executive. Is there anything else, we can help you with?'],\n",
              "   'tag': 'added-delivery-instructions'},\n",
              "  {'patterns': ['Tell me a joke',\n",
              "    'I am feeling bored',\n",
              "    'Joke please',\n",
              "    'Make me laugh',\n",
              "    'I want to laugh'],\n",
              "   'responses': [\"Here's a joke to lighten your mood \\nMy roommate and I are ordering some Chinese food for delivery.\",\n",
              "    'Guy staring at an ambulance in front of Whole Foods:\\n “Somebody must have accidentally eaten gluten.',\n",
              "    'What has T in the beginning, T in the middle, and T at the end? \\n- A teapot.'],\n",
              "   'tag': 'joke'}]}"
            ]
          },
          "metadata": {},
          "execution_count": 7
        }
      ]
    },
    {
      "cell_type": "code",
      "metadata": {
        "id": "ATYe4vOFIJ48"
      },
      "source": [
        "corpus = []\n",
        "tags = []\n",
        "\n",
        "for intent in intents[\"intents\"]:# taking all patterns in intents to train a neural network\n",
        "  for pattern in intent[\"patterns\"]:\n",
        "    corpus.append(pattern)\n",
        "    tags.append(intent[\"tag\"])\n"
      ],
      "execution_count": null,
      "outputs": []
    },
    {
      "cell_type": "code",
      "metadata": {
        "colab": {
          "base_uri": "https://localhost:8080/"
        },
        "id": "0-g6n4XSKzzm",
        "outputId": "e4d57582-b0b2-407e-a87f-1fd973ba067e"
      },
      "source": [
        "cleaned_corpus = clean_corpus(corpus)\n",
        "cleaned_corpus"
      ],
      "execution_count": null,
      "outputs": [
        {
          "output_type": "execute_result",
          "data": {
            "text/plain": [
              "['hi',\n",
              " 'anyone',\n",
              " 'hey',\n",
              " 'hola',\n",
              " 'hello',\n",
              " 'good day',\n",
              " 'bye',\n",
              " 'see later',\n",
              " 'goodbye',\n",
              " 'nice chatting bye',\n",
              " 'till next time',\n",
              " '',\n",
              " 'thanks',\n",
              " 'thank',\n",
              " 'helpful',\n",
              " 'awesome thanks',\n",
              " 'thanks helping',\n",
              " 'could help',\n",
              " 'help provide',\n",
              " 'helpful',\n",
              " 'support offered',\n",
              " 'please check order status',\n",
              " 'able check order status',\n",
              " 'help order status',\n",
              " 'order status',\n",
              " 'order',\n",
              " 'food',\n",
              " 'track order',\n",
              " 'track food',\n",
              " 'hi want cancel order',\n",
              " 'want cancel order',\n",
              " 'please cancel order',\n",
              " 'cancel order',\n",
              " 'want add delivery instruction',\n",
              " 'please add delivery instruction',\n",
              " 'include delivery instruction',\n",
              " 'tell joke',\n",
              " 'feeling bored',\n",
              " 'joke please',\n",
              " 'make laugh',\n",
              " 'want laugh']"
            ]
          },
          "metadata": {},
          "execution_count": 9
        }
      ]
    },
    {
      "cell_type": "markdown",
      "metadata": {
        "id": "Ssy0wd-1LXY9"
      },
      "source": [
        "### **Vectorizing intents**"
      ]
    },
    {
      "cell_type": "code",
      "metadata": {
        "id": "TBf3gSlkLPRd"
      },
      "source": [
        "from sklearn.feature_extraction.text import TfidfVectorizer\n",
        "\n",
        "vectorizer = TfidfVectorizer()\n",
        "X = vectorizer.fit_transform(cleaned_corpus)"
      ],
      "execution_count": null,
      "outputs": []
    },
    {
      "cell_type": "code",
      "metadata": {
        "colab": {
          "base_uri": "https://localhost:8080/"
        },
        "id": "Pc4KrgRzLhMV",
        "outputId": "6e7d75ea-4a28-45c1-dc0b-1754b33aba14"
      },
      "source": [
        "print(X)"
      ],
      "execution_count": null,
      "outputs": [
        {
          "output_type": "stream",
          "name": "stdout",
          "text": [
            "  (0, 21)\t1.0\n",
            "  (1, 2)\t1.0\n",
            "  (2, 20)\t1.0\n",
            "  (3, 22)\t1.0\n",
            "  (4, 16)\t1.0\n",
            "  (5, 10)\t0.7071067811865475\n",
            "  (5, 14)\t0.7071067811865475\n",
            "  (6, 5)\t1.0\n",
            "  (7, 26)\t0.7071067811865475\n",
            "  (7, 35)\t0.7071067811865475\n",
            "  (8, 15)\t1.0\n",
            "  (9, 7)\t0.5965978337311475\n",
            "  (9, 30)\t0.5965978337311475\n",
            "  (9, 5)\t0.5367886451617656\n",
            "  (10, 42)\t0.5773502691896257\n",
            "  (10, 29)\t0.5773502691896257\n",
            "  (10, 41)\t0.5773502691896257\n",
            "  (12, 40)\t1.0\n",
            "  (13, 39)\t1.0\n",
            "  (14, 18)\t1.0\n",
            "  (15, 3)\t0.7700028987598445\n",
            "  (15, 40)\t0.6380403873591676\n",
            "  (16, 19)\t0.7700028987598445\n",
            "  (16, 40)\t0.6380403873591676\n",
            "  (17, 17)\t0.6380403873591676\n",
            "  :\t:\n",
            "  (31, 32)\t0.4675229726491853\n",
            "  (31, 33)\t0.6250689042198745\n",
            "  (32, 6)\t0.8007856345065842\n",
            "  (32, 32)\t0.5989510560704332\n",
            "  (33, 24)\t0.49688458563834825\n",
            "  (33, 11)\t0.49688458563834825\n",
            "  (33, 1)\t0.5395371614906774\n",
            "  (33, 44)\t0.463800677533568\n",
            "  (34, 24)\t0.49688458563834825\n",
            "  (34, 11)\t0.49688458563834825\n",
            "  (34, 1)\t0.5395371614906774\n",
            "  (34, 33)\t0.463800677533568\n",
            "  (35, 23)\t0.649128335973625\n",
            "  (35, 24)\t0.537881215249293\n",
            "  (35, 11)\t0.537881215249293\n",
            "  (36, 25)\t0.668861871440339\n",
            "  (36, 38)\t0.7433867075306951\n",
            "  (37, 4)\t0.7071067811865475\n",
            "  (37, 12)\t0.7071067811865475\n",
            "  (38, 25)\t0.7583250366465526\n",
            "  (38, 33)\t0.6518766285080366\n",
            "  (39, 27)\t0.668861871440339\n",
            "  (39, 28)\t0.7433867075306951\n",
            "  (40, 27)\t0.7583250366465526\n",
            "  (40, 44)\t0.6518766285080366\n"
          ]
        }
      ]
    },
    {
      "cell_type": "markdown",
      "metadata": {
        "id": "0jRV3Kk3z5HW"
      },
      "source": [
        "##### **Reshaping the vectors for our neural network**"
      ]
    },
    {
      "cell_type": "code",
      "metadata": {
        "id": "eD1IlhvDLpGF"
      },
      "source": [
        "from sklearn.preprocessing import OneHotEncoder\n",
        "\n",
        "encoder = OneHotEncoder()\n",
        "y = encoder.fit_transform(np.array(tags).reshape(-1,1))"
      ],
      "execution_count": null,
      "outputs": []
    },
    {
      "cell_type": "markdown",
      "metadata": {
        "id": "vM_JX0GlMXQ1"
      },
      "source": [
        "### **Training neural network**\n",
        "**Developing our neural network for intent classification using the sequential class from tensorflow API**"
      ]
    },
    {
      "cell_type": "code",
      "metadata": {
        "id": "XrVbA5w0L-JU"
      },
      "source": [
        "from tensorflow.keras import Sequential\n",
        "from tensorflow.keras.layers import Dense, Dropout\n",
        "\n",
        "model = Sequential([\n",
        "                    Dense(128, input_shape=(X.shape[1],), activation='relu'),\n",
        "                    Dropout(0.2),\n",
        "                    Dense(64, activation='relu'),\n",
        "                    Dropout(0.2),\n",
        "                    Dense(y.shape[1], activation='softmax')\n",
        "])"
      ],
      "execution_count": null,
      "outputs": []
    },
    {
      "cell_type": "code",
      "metadata": {
        "colab": {
          "base_uri": "https://localhost:8080/"
        },
        "id": "_n4A5DhZMfe1",
        "outputId": "f008f4fa-c92e-498a-89a6-96a8fbcc1114"
      },
      "source": [
        "model.compile(loss='categorical_crossentropy', optimizer='adam', metrics=['accuracy'])\n",
        "model.summary()"
      ],
      "execution_count": null,
      "outputs": [
        {
          "output_type": "stream",
          "name": "stdout",
          "text": [
            "Model: \"sequential\"\n",
            "_________________________________________________________________\n",
            "Layer (type)                 Output Shape              Param #   \n",
            "=================================================================\n",
            "dense (Dense)                (None, 128)               5888      \n",
            "_________________________________________________________________\n",
            "dropout (Dropout)            (None, 128)               0         \n",
            "_________________________________________________________________\n",
            "dense_1 (Dense)              (None, 64)                8256      \n",
            "_________________________________________________________________\n",
            "dropout_1 (Dropout)          (None, 64)                0         \n",
            "_________________________________________________________________\n",
            "dense_2 (Dense)              (None, 8)                 520       \n",
            "=================================================================\n",
            "Total params: 14,664\n",
            "Trainable params: 14,664\n",
            "Non-trainable params: 0\n",
            "_________________________________________________________________\n"
          ]
        }
      ]
    },
    {
      "cell_type": "code",
      "metadata": {
        "colab": {
          "base_uri": "https://localhost:8080/"
        },
        "id": "SImhvqbqMlOc",
        "outputId": "5ac18fce-1f11-4328-b0d0-76b1cfd28b84"
      },
      "source": [
        "history = model.fit(X.toarray(), y.toarray(), epochs=20, batch_size=1)"
      ],
      "execution_count": null,
      "outputs": [
        {
          "output_type": "stream",
          "name": "stdout",
          "text": [
            "Epoch 1/20\n",
            "41/41 [==============================] - 3s 3ms/step - loss: 2.0828 - accuracy: 0.1220\n",
            "Epoch 2/20\n",
            "41/41 [==============================] - 0s 3ms/step - loss: 1.9779 - accuracy: 0.2439\n",
            "Epoch 3/20\n",
            "41/41 [==============================] - 0s 3ms/step - loss: 1.9071 - accuracy: 0.2439\n",
            "Epoch 4/20\n",
            "41/41 [==============================] - 0s 3ms/step - loss: 1.7503 - accuracy: 0.4634\n",
            "Epoch 5/20\n",
            "41/41 [==============================] - 0s 3ms/step - loss: 1.5825 - accuracy: 0.4878\n",
            "Epoch 6/20\n",
            "41/41 [==============================] - 0s 3ms/step - loss: 1.4243 - accuracy: 0.6098\n",
            "Epoch 7/20\n",
            "41/41 [==============================] - 0s 3ms/step - loss: 1.1931 - accuracy: 0.9268\n",
            "Epoch 8/20\n",
            "41/41 [==============================] - 0s 3ms/step - loss: 0.9872 - accuracy: 0.9268\n",
            "Epoch 9/20\n",
            "41/41 [==============================] - 0s 3ms/step - loss: 0.8042 - accuracy: 0.9756\n",
            "Epoch 10/20\n",
            "41/41 [==============================] - 0s 3ms/step - loss: 0.6457 - accuracy: 0.9268\n",
            "Epoch 11/20\n",
            "41/41 [==============================] - 0s 3ms/step - loss: 0.4542 - accuracy: 0.9268\n",
            "Epoch 12/20\n",
            "41/41 [==============================] - 0s 3ms/step - loss: 0.3362 - accuracy: 0.9512\n",
            "Epoch 13/20\n",
            "41/41 [==============================] - 0s 3ms/step - loss: 0.2642 - accuracy: 1.0000\n",
            "Epoch 14/20\n",
            "41/41 [==============================] - 0s 3ms/step - loss: 0.2225 - accuracy: 0.9512\n",
            "Epoch 15/20\n",
            "41/41 [==============================] - 0s 3ms/step - loss: 0.2233 - accuracy: 0.9512\n",
            "Epoch 16/20\n",
            "41/41 [==============================] - 0s 3ms/step - loss: 0.1552 - accuracy: 1.0000\n",
            "Epoch 17/20\n",
            "41/41 [==============================] - 0s 3ms/step - loss: 0.1422 - accuracy: 0.9756\n",
            "Epoch 18/20\n",
            "41/41 [==============================] - 0s 3ms/step - loss: 0.0971 - accuracy: 0.9756\n",
            "Epoch 19/20\n",
            "41/41 [==============================] - 0s 3ms/step - loss: 0.1458 - accuracy: 0.9512\n",
            "Epoch 20/20\n",
            "41/41 [==============================] - 0s 3ms/step - loss: 0.1095 - accuracy: 0.9512\n"
          ]
        }
      ]
    },
    {
      "cell_type": "markdown",
      "metadata": {
        "id": "Q3LscEcHRhpr"
      },
      "source": [
        "### **Classifying messages to intent**\n",
        "\n",
        "1.If the intent probability does not match with any intent, then send it to no answer.\n",
        "\n",
        "2.Get Intent\n",
        "\n",
        "3.Perform Action\n",
        "\n",
        "**Defining the function to predict intent tag of a particular\n",
        "message.**"
      ]
    },
    {
      "cell_type": "code",
      "metadata": {
        "colab": {
          "base_uri": "https://localhost:8080/"
        },
        "id": "nl58W2SbMqql",
        "outputId": "90a34670-5f1e-4aea-b46e-5baf0ce532cf"
      },
      "source": [
        "# if prediction for every tag is low, then we want to classify that message as noanswer\n",
        "\n",
        "INTENT_NOT_FOUND_THRESHOLD = 0.40\n",
        "\n",
        "\n",
        "def predict_intent_tag(message):\n",
        "  message = clean_corpus([message])\n",
        "  X_test = vectorizer.transform(message)\n",
        "  y = model.predict(X_test.toarray())\n",
        "\n",
        "  # if probability of all intent is low, classify it as noanswer\n",
        "  if y.max() < INTENT_NOT_FOUND_THRESHOLD:\n",
        "    return \"noanswer\"\n",
        "\n",
        "  prediction = np.zeros_like(y[0])\n",
        "  prediction[y.argmax()] = 1\n",
        "  tag = encoder.inverse_transform([prediction])[0][0]\n",
        "  return tag\n",
        "\n",
        "print(predict_intent_tag('How you could help me?'))\n",
        "print(predict_intent_tag('swiggy chat bot'))\n",
        "print(predict_intent_tag('Where\\'s my order'))"
      ],
      "execution_count": null,
      "outputs": [
        {
          "output_type": "stream",
          "name": "stdout",
          "text": [
            "options\n",
            "goodbye\n",
            "order-status-request\n"
          ]
        }
      ]
    },
    {
      "cell_type": "markdown",
      "metadata": {
        "id": "PSUZqaF20-ab"
      },
      "source": [
        "**Define function to fetch the tag of the intent**"
      ]
    },
    {
      "cell_type": "code",
      "metadata": {
        "id": "EMj4-iMGjdVb"
      },
      "source": [
        "import random\n",
        "import time "
      ],
      "execution_count": null,
      "outputs": []
    },
    {
      "cell_type": "code",
      "metadata": {
        "id": "YqHsiVvhHb3I"
      },
      "source": [
        "def get_intent(tag):\n",
        "   # to return complete intent from intent tag\n",
        "   for intent in intents[\"intents\"]:\n",
        "     if intent[\"tag\"] == tag:\n",
        "       return intent"
      ],
      "execution_count": null,
      "outputs": []
    },
    {
      "cell_type": "markdown",
      "metadata": {
        "id": "QrOiOd3v1L44"
      },
      "source": [
        "**Till now we have fetched the intent of the message received\n",
        "from the user. Now let's define a function to perform a certain\n",
        "action on the basis of the intent classified**"
      ]
    },
    {
      "cell_type": "code",
      "metadata": {
        "id": "tlFMd3DmH7_E"
      },
      "source": [
        "def perform_action(action_code, intent):\n",
        "  # funition to perform an action which is required by intent\n",
        "\n",
        "  if action_code == \"CHECK_ORDER_STATUS\":\n",
        "    print(\"\\n Checking database \\n\")\n",
        "    time.sleep(2)\n",
        "    order_status = [\"in kitchen\", \"with delivery executive\"]\n",
        "    delivery_time = []\n",
        "    return {\"intent-tag\":intent['next-intent-tag'][0],\n",
        "            \"order_status\": random.choice(order_status),\n",
        "            \"delivery_time\": random.randint(10, 30)}\n",
        "\n",
        "  elif action_code == \"ORDER_CANCEL_CONFIRMATION\":\n",
        "    ch = input(\"BOT: Do you want to continue (Y/N) ?\")\n",
        "    if ch == \"y\" or ch == \"Y\":\n",
        "      choice = 0\n",
        "    else:\n",
        "      choice = 1\n",
        "    return{\"intent-tag\": intent[\"next-intent-tag\"][choice]}\n",
        "\n",
        "  elif action_code == \"ADD_DELIVERY_INSTRUCTIONS\":\n",
        "    instructions = input(\"Your instructions: \")\n",
        "    return{\"intent-tag\": intent[\"next-intent-tag\"][0]}"
      ],
      "execution_count": null,
      "outputs": []
    },
    {
      "cell_type": "markdown",
      "metadata": {
        "id": "E20Uj4C4M_Ug"
      },
      "source": [
        "### **Complete chat bot**"
      ]
    },
    {
      "cell_type": "code",
      "metadata": {
        "colab": {
          "base_uri": "https://localhost:8080/"
        },
        "id": "9VNNqZcgMRME",
        "outputId": "57081f6d-a887-4f01-92c9-2e21c967fe78"
      },
      "source": [
        "while True:\n",
        "   # get message from user\n",
        "   message = input(\"you: \")\n",
        "   # predict intent tag using trained neural network\n",
        "   tag = predict_intent_tag(message)\n",
        "   # get complete intent from intent tag\n",
        "   intent = get_intent(tag)\n",
        "   # generate random response from intent\n",
        "   response = random.choice(intent[\"responses\"])\n",
        "   print(\"Bot: \", response)\n",
        "\n",
        "   # check if there's a need to perform some action\n",
        "   if \"action\" in intent.keys():\n",
        "     action_code = intent[\"action\"]\n",
        "     #perform action\n",
        "     data = perform_action(action_code, intent)\n",
        "     #get follow up intent after perfoming action \n",
        "     followup_intent = get_intent(data[\"intent-tag\"])\n",
        "     #generate random response from follow up intent\n",
        "     response = random.choice(followup_intent[\"responses\"])\n",
        "\n",
        "     #print randomly selected response\n",
        "     if len(data.keys()) > 1:\n",
        "       print(\"Bot: \",response.format(**data))\n",
        "     else:\n",
        "       print(\"Bot: \", response)\n",
        "    \n",
        "  # break loop if intent was goodbye\n",
        "   if tag == 'goodbye':\n",
        "     break"
      ],
      "execution_count": null,
      "outputs": [
        {
          "output_type": "stream",
          "name": "stdout",
          "text": [
            "you: Hi\n",
            "Bot:  Hi there, how can I help?\n",
            "you: order status\n",
            "Bot:  I am checking your status of your order, Please wait.\n",
            "\n",
            " Checking database \n",
            "\n",
            "Bot:  Your order is currently with delivery executive, it will be delivered in 23 minutes. Do you need any more help?\n",
            "you: bye\n",
            "Bot:  See you!\n"
          ]
        }
      ]
    },
    {
      "cell_type": "code",
      "metadata": {
        "id": "SUs7-RFh49qA"
      },
      "source": [
        ""
      ],
      "execution_count": null,
      "outputs": []
    }
  ]
}